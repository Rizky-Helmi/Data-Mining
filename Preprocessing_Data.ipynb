{
  "nbformat": 4,
  "nbformat_minor": 0,
  "metadata": {
    "colab": {
      "name": "Preprocessing Data.ipynb",
      "provenance": [],
      "collapsed_sections": []
    },
    "kernelspec": {
      "name": "python3",
      "display_name": "Python 3"
    },
    "language_info": {
      "name": "python"
    }
  },
  "cells": [
    {
      "cell_type": "code",
      "execution_count": 1,
      "metadata": {
        "id": "rcDyEtgtDAtq"
      },
      "outputs": [],
      "source": [
        "import numpy as np\n",
        "import matplotlib.pyplot as plt\n",
        "import pandas as pd"
      ]
    },
    {
      "cell_type": "markdown",
      "source": [
        "Numpy merupakan library python digunakan untuk komputasi matriks.\n",
        "Matplatlib merupakan library python untuk presentasi data berupa grafik atau plot"
      ],
      "metadata": {
        "id": "TlBJoaVSELgv"
      }
    },
    {
      "cell_type": "code",
      "source": [
        "dataset = pd.read_csv('Data.csv')\n",
        "x = dataset.iloc[:,:-1].values\n",
        "y = dataset.iloc[:,-1].values"
      ],
      "metadata": {
        "id": "IswsWlCbESsg"
      },
      "execution_count": 2,
      "outputs": []
    },
    {
      "cell_type": "code",
      "source": [
        "print(x)"
      ],
      "metadata": {
        "colab": {
          "base_uri": "https://localhost:8080/"
        },
        "id": "SB4-vHFCGSKc",
        "outputId": "10fdac0a-ed68-4b38-a114-0337312d288a"
      },
      "execution_count": 3,
      "outputs": [
        {
          "output_type": "stream",
          "name": "stdout",
          "text": [
            "[['Australia' 46.0 72000.0]\n",
            " ['Indonesia' 26.0 48000.0]\n",
            " ['Malaysia' 32.0 54000.0]\n",
            " ['Indonesia' 36.0 61000.0]\n",
            " ['Malaysia' 41.0 nan]\n",
            " ['Australia' 37.0 58000.0]\n",
            " ['Indonesia' nan 52000.0]\n",
            " ['Australia' 47.0 79000.0]\n",
            " ['Malaysia' 52.0 83000.0]\n",
            " ['Australia' 38.0 67000.0]]\n"
          ]
        }
      ]
    },
    {
      "cell_type": "code",
      "source": [
        "print(y)"
      ],
      "metadata": {
        "colab": {
          "base_uri": "https://localhost:8080/"
        },
        "id": "kNXIDF9vG2Xr",
        "outputId": "a7fe30b5-c04c-4fdc-dc08-111e05d837e3"
      },
      "execution_count": 4,
      "outputs": [
        {
          "output_type": "stream",
          "name": "stdout",
          "text": [
            "['No' 'Yes' 'No' 'No' 'Yes' 'Yes' 'No' 'Yes' 'No' 'Yes']\n"
          ]
        }
      ]
    },
    {
      "cell_type": "code",
      "source": [
        "from sklearn.impute import SimpleImputer\n",
        "imputer = SimpleImputer(missing_values=np.nan, strategy='mean')\n",
        "imputer.fit(x[:,1:3])\n",
        "x[:, 1:3] =imputer.transform(x[:,1:3])"
      ],
      "metadata": {
        "id": "SZa4WhR8HRYp"
      },
      "execution_count": 6,
      "outputs": []
    },
    {
      "cell_type": "code",
      "source": [
        "print(x)"
      ],
      "metadata": {
        "colab": {
          "base_uri": "https://localhost:8080/"
        },
        "id": "cZV-IY3QHwkO",
        "outputId": "13ed2629-d457-42a4-a65f-bd2c37669cd1"
      },
      "execution_count": 7,
      "outputs": [
        {
          "output_type": "stream",
          "name": "stdout",
          "text": [
            "[['Australia' 46.0 72000.0]\n",
            " ['Indonesia' 26.0 48000.0]\n",
            " ['Malaysia' 32.0 54000.0]\n",
            " ['Indonesia' 36.0 61000.0]\n",
            " ['Malaysia' 41.0 63777.77777777778]\n",
            " ['Australia' 37.0 58000.0]\n",
            " ['Indonesia' 39.44444444444444 52000.0]\n",
            " ['Australia' 47.0 79000.0]\n",
            " ['Malaysia' 52.0 83000.0]\n",
            " ['Australia' 38.0 67000.0]]\n"
          ]
        }
      ]
    },
    {
      "cell_type": "code",
      "source": [
        "from sklearn.compose import ColumnTransformer\n",
        "from sklearn.preprocessing import OneHotEncoder\n",
        "ct = ColumnTransformer(transformers=[('encoder',OneHotEncoder(),[0])], remainder='passthrough')\n",
        "x = np.array(ct.fit_transform(x))"
      ],
      "metadata": {
        "id": "AFBEi8u_IfrM"
      },
      "execution_count": 8,
      "outputs": []
    },
    {
      "cell_type": "code",
      "source": [
        "print(x)"
      ],
      "metadata": {
        "colab": {
          "base_uri": "https://localhost:8080/"
        },
        "id": "CAzGCobmJK5T",
        "outputId": "b64b1009-9f83-45a4-d430-17ec2f47b932"
      },
      "execution_count": 9,
      "outputs": [
        {
          "output_type": "stream",
          "name": "stdout",
          "text": [
            "[[1.0 0.0 0.0 46.0 72000.0]\n",
            " [0.0 1.0 0.0 26.0 48000.0]\n",
            " [0.0 0.0 1.0 32.0 54000.0]\n",
            " [0.0 1.0 0.0 36.0 61000.0]\n",
            " [0.0 0.0 1.0 41.0 63777.77777777778]\n",
            " [1.0 0.0 0.0 37.0 58000.0]\n",
            " [0.0 1.0 0.0 39.44444444444444 52000.0]\n",
            " [1.0 0.0 0.0 47.0 79000.0]\n",
            " [0.0 0.0 1.0 52.0 83000.0]\n",
            " [1.0 0.0 0.0 38.0 67000.0]]\n"
          ]
        }
      ]
    },
    {
      "cell_type": "code",
      "source": [
        "from sklearn.preprocessing import LabelEncoder\n",
        "le = LabelEncoder()\n",
        "y = le.fit_transform(y)"
      ],
      "metadata": {
        "id": "yTV-0QssJoCb"
      },
      "execution_count": 10,
      "outputs": []
    },
    {
      "cell_type": "code",
      "source": [
        "print(y)"
      ],
      "metadata": {
        "colab": {
          "base_uri": "https://localhost:8080/"
        },
        "id": "tLq9kitKJs4U",
        "outputId": "d97109ea-5289-4302-db32-0c497eb5091f"
      },
      "execution_count": 11,
      "outputs": [
        {
          "output_type": "stream",
          "name": "stdout",
          "text": [
            "[0 1 0 0 1 1 0 1 0 1]\n"
          ]
        }
      ]
    },
    {
      "cell_type": "code",
      "source": [
        "from sklearn.model_selection import train_test_split\n",
        "x_train, x_test, y_train, y_test = train_test_split(x,y,test_size=0.2, random_state=1)"
      ],
      "metadata": {
        "id": "fNGTXkzvKA8L"
      },
      "execution_count": 12,
      "outputs": []
    },
    {
      "cell_type": "code",
      "source": [
        "print(x_train)"
      ],
      "metadata": {
        "colab": {
          "base_uri": "https://localhost:8080/"
        },
        "id": "sYUfDifsKVZ0",
        "outputId": "6a107186-eac0-48ef-a868-7935003e0eb5"
      },
      "execution_count": 13,
      "outputs": [
        {
          "output_type": "stream",
          "name": "stdout",
          "text": [
            "[[0.0 1.0 0.0 39.44444444444444 52000.0]\n",
            " [0.0 0.0 1.0 41.0 63777.77777777778]\n",
            " [1.0 0.0 0.0 46.0 72000.0]\n",
            " [0.0 1.0 0.0 36.0 61000.0]\n",
            " [0.0 1.0 0.0 26.0 48000.0]\n",
            " [1.0 0.0 0.0 47.0 79000.0]\n",
            " [0.0 0.0 1.0 52.0 83000.0]\n",
            " [1.0 0.0 0.0 37.0 58000.0]]\n"
          ]
        }
      ]
    },
    {
      "cell_type": "code",
      "source": [
        "print(x_test)"
      ],
      "metadata": {
        "colab": {
          "base_uri": "https://localhost:8080/"
        },
        "id": "sYerTE7oKiuT",
        "outputId": "dc6fca78-51da-4f0d-c909-2b41fcec105a"
      },
      "execution_count": 14,
      "outputs": [
        {
          "output_type": "stream",
          "name": "stdout",
          "text": [
            "[[0.0 0.0 1.0 32.0 54000.0]\n",
            " [1.0 0.0 0.0 38.0 67000.0]]\n"
          ]
        }
      ]
    },
    {
      "cell_type": "code",
      "source": [
        "print(y_train)"
      ],
      "metadata": {
        "colab": {
          "base_uri": "https://localhost:8080/"
        },
        "id": "RZFIecOEK3_D",
        "outputId": "39517b5a-84c8-4533-f63b-3de6797ee3c9"
      },
      "execution_count": 15,
      "outputs": [
        {
          "output_type": "stream",
          "name": "stdout",
          "text": [
            "[0 1 0 0 1 1 0 1]\n"
          ]
        }
      ]
    },
    {
      "cell_type": "code",
      "source": [
        "print(y_test)"
      ],
      "metadata": {
        "colab": {
          "base_uri": "https://localhost:8080/"
        },
        "id": "SkEY1At2K-sz",
        "outputId": "1c8898fe-c36f-46c7-d36c-8980399bd838"
      },
      "execution_count": 16,
      "outputs": [
        {
          "output_type": "stream",
          "name": "stdout",
          "text": [
            "[0 1]\n"
          ]
        }
      ]
    },
    {
      "cell_type": "code",
      "source": [
        "from sklearn.preprocessing import StandardScaler\n",
        "sc = StandardScaler()\n",
        "x_train[:,3:] = sc.fit_transform(x_train[:,3:])\n",
        "x_test[:,3:] = sc.transform(x_test[:,3:])"
      ],
      "metadata": {
        "id": "ucC0cZcyLYir"
      },
      "execution_count": 17,
      "outputs": []
    },
    {
      "cell_type": "code",
      "source": [
        "print(x_train)"
      ],
      "metadata": {
        "colab": {
          "base_uri": "https://localhost:8080/"
        },
        "id": "EEdeDCEJL46r",
        "outputId": "2707b1b1-4175-40e3-a126-7d875296e7a7"
      },
      "execution_count": 18,
      "outputs": [
        {
          "output_type": "stream",
          "name": "stdout",
          "text": [
            "[[0.0 1.0 0.0 -0.1483395462120736 -1.0781259408412425]\n",
            " [0.0 0.0 1.0 0.05933581848482906 -0.07013167641635372]\n",
            " [1.0 0.0 0.0 0.7268637764391583 0.633562432710455]\n",
            " [0.0 1.0 0.0 -0.6081921394695002 -0.30786617274297867]\n",
            " [0.0 1.0 0.0 -1.9432480553781586 -1.420463615551582]\n",
            " [1.0 0.0 0.0 0.8603693680300242 1.232653363453549]\n",
            " [0.0 0.0 1.0 1.5278973259843533 1.5749910381638885]\n",
            " [1.0 0.0 0.0 -0.47468654787863435 -0.5646194287757332]]\n"
          ]
        }
      ]
    },
    {
      "cell_type": "code",
      "source": [
        "print(x_test)"
      ],
      "metadata": {
        "colab": {
          "base_uri": "https://localhost:8080/"
        },
        "id": "zSGzs07wL6qq",
        "outputId": "d52a8154-9c03-44e5-b659-47b55ab81289"
      },
      "execution_count": 19,
      "outputs": [
        {
          "output_type": "stream",
          "name": "stdout",
          "text": [
            "[[0.0 0.0 1.0 -1.1422145058329636 -0.9069571034860727]\n",
            " [1.0 0.0 0.0 -0.3411809562877685 0.2056403393225306]]\n"
          ]
        }
      ]
    }
  ]
}