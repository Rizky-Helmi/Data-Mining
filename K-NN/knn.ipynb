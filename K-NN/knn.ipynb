{
  "nbformat": 4,
  "nbformat_minor": 0,
  "metadata": {
    "colab": {
      "name": "knn.ipynb",
      "provenance": []
    },
    "kernelspec": {
      "name": "python3",
      "display_name": "Python 3"
    },
    "language_info": {
      "name": "python"
    }
  },
  "cells": [
    {
      "cell_type": "code",
      "execution_count": 3,
      "metadata": {
        "id": "15--W8QqQAD6"
      },
      "outputs": [],
      "source": [
        "import numpy as np\n",
        "import matplotlib.pyplot as plt\n",
        "import pandas as pd"
      ]
    },
    {
      "cell_type": "code",
      "source": [
        "dataset = pd.read_csv('Social Network Ads.csv')\n"
      ],
      "metadata": {
        "id": "cQNh36gAU1R5"
      },
      "execution_count": 8,
      "outputs": []
    },
    {
      "cell_type": "code",
      "source": [
        "dataset.head()"
      ],
      "metadata": {
        "colab": {
          "base_uri": "https://localhost:8080/",
          "height": 206
        },
        "id": "nvA_342RejLH",
        "outputId": "ec6e2d68-1d2d-4553-d87a-810276f56e60"
      },
      "execution_count": 9,
      "outputs": [
        {
          "output_type": "execute_result",
          "data": {
            "text/plain": [
              "    User ID  Gender  Age  EstimatedSalary  Purchased\n",
              "0  15624510    Male   20            19000          0\n",
              "1  15810944  Female   33            20000          0\n",
              "2  15668575  Female   26            41000          0\n",
              "3  15603246    Male   27            57000          0\n",
              "4  15804002    Male   18            76000          0"
            ],
            "text/html": [
              "\n",
              "  <div id=\"df-a3dcca91-211f-46e3-b10c-2c1e1a2e55e0\">\n",
              "    <div class=\"colab-df-container\">\n",
              "      <div>\n",
              "<style scoped>\n",
              "    .dataframe tbody tr th:only-of-type {\n",
              "        vertical-align: middle;\n",
              "    }\n",
              "\n",
              "    .dataframe tbody tr th {\n",
              "        vertical-align: top;\n",
              "    }\n",
              "\n",
              "    .dataframe thead th {\n",
              "        text-align: right;\n",
              "    }\n",
              "</style>\n",
              "<table border=\"1\" class=\"dataframe\">\n",
              "  <thead>\n",
              "    <tr style=\"text-align: right;\">\n",
              "      <th></th>\n",
              "      <th>User ID</th>\n",
              "      <th>Gender</th>\n",
              "      <th>Age</th>\n",
              "      <th>EstimatedSalary</th>\n",
              "      <th>Purchased</th>\n",
              "    </tr>\n",
              "  </thead>\n",
              "  <tbody>\n",
              "    <tr>\n",
              "      <th>0</th>\n",
              "      <td>15624510</td>\n",
              "      <td>Male</td>\n",
              "      <td>20</td>\n",
              "      <td>19000</td>\n",
              "      <td>0</td>\n",
              "    </tr>\n",
              "    <tr>\n",
              "      <th>1</th>\n",
              "      <td>15810944</td>\n",
              "      <td>Female</td>\n",
              "      <td>33</td>\n",
              "      <td>20000</td>\n",
              "      <td>0</td>\n",
              "    </tr>\n",
              "    <tr>\n",
              "      <th>2</th>\n",
              "      <td>15668575</td>\n",
              "      <td>Female</td>\n",
              "      <td>26</td>\n",
              "      <td>41000</td>\n",
              "      <td>0</td>\n",
              "    </tr>\n",
              "    <tr>\n",
              "      <th>3</th>\n",
              "      <td>15603246</td>\n",
              "      <td>Male</td>\n",
              "      <td>27</td>\n",
              "      <td>57000</td>\n",
              "      <td>0</td>\n",
              "    </tr>\n",
              "    <tr>\n",
              "      <th>4</th>\n",
              "      <td>15804002</td>\n",
              "      <td>Male</td>\n",
              "      <td>18</td>\n",
              "      <td>76000</td>\n",
              "      <td>0</td>\n",
              "    </tr>\n",
              "  </tbody>\n",
              "</table>\n",
              "</div>\n",
              "      <button class=\"colab-df-convert\" onclick=\"convertToInteractive('df-a3dcca91-211f-46e3-b10c-2c1e1a2e55e0')\"\n",
              "              title=\"Convert this dataframe to an interactive table.\"\n",
              "              style=\"display:none;\">\n",
              "        \n",
              "  <svg xmlns=\"http://www.w3.org/2000/svg\" height=\"24px\"viewBox=\"0 0 24 24\"\n",
              "       width=\"24px\">\n",
              "    <path d=\"M0 0h24v24H0V0z\" fill=\"none\"/>\n",
              "    <path d=\"M18.56 5.44l.94 2.06.94-2.06 2.06-.94-2.06-.94-.94-2.06-.94 2.06-2.06.94zm-11 1L8.5 8.5l.94-2.06 2.06-.94-2.06-.94L8.5 2.5l-.94 2.06-2.06.94zm10 10l.94 2.06.94-2.06 2.06-.94-2.06-.94-.94-2.06-.94 2.06-2.06.94z\"/><path d=\"M17.41 7.96l-1.37-1.37c-.4-.4-.92-.59-1.43-.59-.52 0-1.04.2-1.43.59L10.3 9.45l-7.72 7.72c-.78.78-.78 2.05 0 2.83L4 21.41c.39.39.9.59 1.41.59.51 0 1.02-.2 1.41-.59l7.78-7.78 2.81-2.81c.8-.78.8-2.07 0-2.86zM5.41 20L4 18.59l7.72-7.72 1.47 1.35L5.41 20z\"/>\n",
              "  </svg>\n",
              "      </button>\n",
              "      \n",
              "  <style>\n",
              "    .colab-df-container {\n",
              "      display:flex;\n",
              "      flex-wrap:wrap;\n",
              "      gap: 12px;\n",
              "    }\n",
              "\n",
              "    .colab-df-convert {\n",
              "      background-color: #E8F0FE;\n",
              "      border: none;\n",
              "      border-radius: 50%;\n",
              "      cursor: pointer;\n",
              "      display: none;\n",
              "      fill: #1967D2;\n",
              "      height: 32px;\n",
              "      padding: 0 0 0 0;\n",
              "      width: 32px;\n",
              "    }\n",
              "\n",
              "    .colab-df-convert:hover {\n",
              "      background-color: #E2EBFA;\n",
              "      box-shadow: 0px 1px 2px rgba(60, 64, 67, 0.3), 0px 1px 3px 1px rgba(60, 64, 67, 0.15);\n",
              "      fill: #174EA6;\n",
              "    }\n",
              "\n",
              "    [theme=dark] .colab-df-convert {\n",
              "      background-color: #3B4455;\n",
              "      fill: #D2E3FC;\n",
              "    }\n",
              "\n",
              "    [theme=dark] .colab-df-convert:hover {\n",
              "      background-color: #434B5C;\n",
              "      box-shadow: 0px 1px 3px 1px rgba(0, 0, 0, 0.15);\n",
              "      filter: drop-shadow(0px 1px 2px rgba(0, 0, 0, 0.3));\n",
              "      fill: #FFFFFF;\n",
              "    }\n",
              "  </style>\n",
              "\n",
              "      <script>\n",
              "        const buttonEl =\n",
              "          document.querySelector('#df-a3dcca91-211f-46e3-b10c-2c1e1a2e55e0 button.colab-df-convert');\n",
              "        buttonEl.style.display =\n",
              "          google.colab.kernel.accessAllowed ? 'block' : 'none';\n",
              "\n",
              "        async function convertToInteractive(key) {\n",
              "          const element = document.querySelector('#df-a3dcca91-211f-46e3-b10c-2c1e1a2e55e0');\n",
              "          const dataTable =\n",
              "            await google.colab.kernel.invokeFunction('convertToInteractive',\n",
              "                                                     [key], {});\n",
              "          if (!dataTable) return;\n",
              "\n",
              "          const docLinkHtml = 'Like what you see? Visit the ' +\n",
              "            '<a target=\"_blank\" href=https://colab.research.google.com/notebooks/data_table.ipynb>data table notebook</a>'\n",
              "            + ' to learn more about interactive tables.';\n",
              "          element.innerHTML = '';\n",
              "          dataTable['output_type'] = 'display_data';\n",
              "          await google.colab.output.renderOutput(dataTable, element);\n",
              "          const docLink = document.createElement('div');\n",
              "          docLink.innerHTML = docLinkHtml;\n",
              "          element.appendChild(docLink);\n",
              "        }\n",
              "      </script>\n",
              "    </div>\n",
              "  </div>\n",
              "  "
            ]
          },
          "metadata": {},
          "execution_count": 9
        }
      ]
    },
    {
      "cell_type": "code",
      "source": [
        "x = dataset.iloc [:, [2,3]].values\n",
        "y = dataset.iloc [:, -1 ].values"
      ],
      "metadata": {
        "id": "sCeBW7VDe0pB"
      },
      "execution_count": 10,
      "outputs": []
    },
    {
      "cell_type": "code",
      "source": [
        "print(x)"
      ],
      "metadata": {
        "id": "vaVAZrqJe2u5"
      },
      "execution_count": null,
      "outputs": []
    },
    {
      "cell_type": "code",
      "source": [
        "print(y)"
      ],
      "metadata": {
        "id": "v9Zog7FMfEjw"
      },
      "execution_count": null,
      "outputs": []
    },
    {
      "cell_type": "code",
      "source": [
        "from sklearn.model_selection import train_test_split\n",
        "x_train, x_test, y_train, y_test = train_test_split(x, y, test_size=0.25, random_state=0)"
      ],
      "metadata": {
        "id": "ilpilDPhfn0-"
      },
      "execution_count": 14,
      "outputs": []
    },
    {
      "cell_type": "code",
      "source": [
        "print(x_train)"
      ],
      "metadata": {
        "id": "cgqBUXM8fp66"
      },
      "execution_count": null,
      "outputs": []
    },
    {
      "cell_type": "code",
      "source": [
        "len(x_train)"
      ],
      "metadata": {
        "id": "STl6YBXXfye0"
      },
      "execution_count": null,
      "outputs": []
    },
    {
      "cell_type": "code",
      "source": [
        "len(x)"
      ],
      "metadata": {
        "id": "hBwcYyRof366"
      },
      "execution_count": null,
      "outputs": []
    },
    {
      "cell_type": "code",
      "source": [
        "len(x_test)"
      ],
      "metadata": {
        "id": "FDWfjLYigLei"
      },
      "execution_count": null,
      "outputs": []
    },
    {
      "cell_type": "code",
      "source": [
        "len(y)"
      ],
      "metadata": {
        "id": "wn23di01gOv5"
      },
      "execution_count": null,
      "outputs": []
    },
    {
      "cell_type": "code",
      "source": [
        "len(y_test)"
      ],
      "metadata": {
        "id": "88e57gZUgWi4"
      },
      "execution_count": null,
      "outputs": []
    },
    {
      "cell_type": "code",
      "source": [
        "len(y_train)"
      ],
      "metadata": {
        "id": "7B6w7WzfgaDX"
      },
      "execution_count": null,
      "outputs": []
    },
    {
      "cell_type": "code",
      "source": [
        "from sklearn.preprocessing import StandardScaler\n",
        "sc = StandardScaler()\n",
        "x_train = sc.fit_transform(x_train)\n",
        "x_test = sc.transform(x_test)"
      ],
      "metadata": {
        "id": "gTXELLM1hFj1"
      },
      "execution_count": 22,
      "outputs": []
    },
    {
      "cell_type": "code",
      "source": [
        "print(x_train)"
      ],
      "metadata": {
        "colab": {
          "base_uri": "https://localhost:8080/"
        },
        "id": "TFE7Hddthq33",
        "outputId": "1964836c-f307-47ee-db67-6386f2947d87"
      },
      "execution_count": 23,
      "outputs": [
        {
          "output_type": "stream",
          "name": "stdout",
          "text": [
            "[[ 0.5814271  -0.88847317]\n",
            " [-0.60448654  1.46234326]\n",
            " [-0.01152972 -0.5692265 ]\n",
            " [-0.60448654  1.89767963]\n",
            " [ 1.3720362  -1.41087682]\n",
            " [ 1.47086233  0.99798446]\n",
            " [ 0.08729642 -0.8014059 ]\n",
            " [-0.01152972 -0.24997982]\n",
            " [-0.20918199 -0.5692265 ]\n",
            " [-0.20918199 -0.19193497]\n",
            " [-0.30800813 -1.29478712]\n",
            " [-0.30800813 -0.5692265 ]\n",
            " [ 0.38377483  0.09828928]\n",
            " [ 0.87790551 -0.59824892]\n",
            " [ 2.06381915 -1.17869742]\n",
            " [ 1.07555779 -0.13389012]\n",
            " [ 0.68025324  1.78158993]\n",
            " [-0.70331267  0.56264808]\n",
            " [ 0.77907938  0.35949111]\n",
            " [ 0.87790551 -0.54020407]\n",
            " [-1.19744335 -1.58501138]\n",
            " [ 2.16264529  0.93993961]\n",
            " [-0.01152972  1.23016386]\n",
            " [ 0.18612256  1.08505173]\n",
            " [ 0.38377483 -0.48215922]\n",
            " [-0.30800813 -0.30802467]\n",
            " [ 0.97673165 -0.83042832]\n",
            " [ 0.97673165  1.86865721]\n",
            " [ 0.08729642  1.25918628]\n",
            " [-0.90096494  2.27497116]\n",
            " [-1.19744335 -1.58501138]\n",
            " [ 2.16264529 -0.8014059 ]\n",
            " [-1.39509563 -1.46892167]\n",
            " [ 0.38377483  2.30399359]\n",
            " [ 0.77907938  0.76580506]\n",
            " [-0.99979108 -0.30802467]\n",
            " [ 0.08729642  0.76580506]\n",
            " [-0.99979108  0.56264808]\n",
            " [ 0.28494869  0.06926685]\n",
            " [ 0.68025324 -1.2657647 ]\n",
            " [-0.5056604  -0.01780042]\n",
            " [-1.79040017  0.35949111]\n",
            " [-0.70331267  0.1273117 ]\n",
            " [ 0.38377483  0.30144626]\n",
            " [-0.30800813  0.06926685]\n",
            " [-0.5056604   2.30399359]\n",
            " [ 0.28494869  0.04024443]\n",
            " [ 1.27321006  2.21692631]\n",
            " [ 0.77907938  0.27242383]\n",
            " [-0.30800813  0.15633413]\n",
            " [-0.01152972 -0.54020407]\n",
            " [-0.20918199  0.15633413]\n",
            " [-0.11035585  0.24340141]\n",
            " [-0.01152972 -0.24997982]\n",
            " [ 2.16264529  1.11407416]\n",
            " [-1.79040017  0.35949111]\n",
            " [ 1.86616688  0.1273117 ]\n",
            " [ 0.38377483 -0.13389012]\n",
            " [-1.19744335  0.30144626]\n",
            " [ 0.77907938  1.37527598]\n",
            " [-0.30800813 -0.24997982]\n",
            " [-1.69157404 -0.04682285]\n",
            " [-0.99979108 -0.74336105]\n",
            " [ 0.28494869  0.50460323]\n",
            " [-0.11035585 -1.06260772]\n",
            " [-1.09861722  0.59167051]\n",
            " [ 0.08729642 -0.8014059 ]\n",
            " [-0.99979108  1.54941053]\n",
            " [-0.70331267  1.40429841]\n",
            " [-1.29626949  0.50460323]\n",
            " [-0.30800813  0.04024443]\n",
            " [-0.11035585  0.011222  ]\n",
            " [-0.30800813 -0.88847317]\n",
            " [ 0.87790551 -1.35283197]\n",
            " [-0.30800813  2.24594874]\n",
            " [ 0.97673165  1.98474691]\n",
            " [-1.19744335  0.47558081]\n",
            " [-1.29626949  0.27242383]\n",
            " [ 1.3720362   1.98474691]\n",
            " [ 1.47086233 -1.35283197]\n",
            " [-0.30800813 -0.27900225]\n",
            " [-0.5056604   1.25918628]\n",
            " [-0.80213881  1.08505173]\n",
            " [ 0.97673165 -0.94651802]\n",
            " [ 0.28494869  0.30144626]\n",
            " [ 0.97673165  0.76580506]\n",
            " [-0.70331267 -1.4979441 ]\n",
            " [-0.70331267  0.04024443]\n",
            " [ 0.48260097  1.72354508]\n",
            " [ 2.06381915  0.18535655]\n",
            " [-1.98805245 -0.74336105]\n",
            " [-0.20918199  1.40429841]\n",
            " [ 0.38377483  0.59167051]\n",
            " [ 0.87790551 -1.149675  ]\n",
            " [-1.19744335 -0.83042832]\n",
            " [ 0.18612256  0.24340141]\n",
            " [ 0.77907938 -0.30802467]\n",
            " [ 2.06381915 -0.8014059 ]\n",
            " [ 0.77907938  0.1273117 ]\n",
            " [-0.30800813  0.62069293]\n",
            " [-0.99979108 -0.30802467]\n",
            " [ 0.18612256 -0.36606952]\n",
            " [ 2.06381915  2.12985904]\n",
            " [ 1.86616688 -1.2657647 ]\n",
            " [ 1.47086233 -0.9174956 ]\n",
            " [ 0.87790551  1.25918628]\n",
            " [ 1.47086233  2.12985904]\n",
            " [-0.30800813 -1.23674227]\n",
            " [ 1.96499301  0.91091718]\n",
            " [ 0.68025324 -0.71433862]\n",
            " [-1.49392176  0.35949111]\n",
            " [ 0.77907938 -1.35283197]\n",
            " [ 0.38377483 -0.13389012]\n",
            " [-0.99979108  0.41753596]\n",
            " [-0.01152972 -0.30802467]\n",
            " [-1.19744335  0.41753596]\n",
            " [-0.90096494 -1.20771985]\n",
            " [-0.11035585  0.04024443]\n",
            " [-1.5927479  -0.42411437]\n",
            " [ 0.68025324 -1.00456287]\n",
            " [ 1.07555779 -1.20771985]\n",
            " [-0.01152972 -0.13389012]\n",
            " [-1.09861722 -1.52696653]\n",
            " [ 0.77907938 -1.17869742]\n",
            " [ 0.97673165  2.07181419]\n",
            " [-1.19744335 -1.52696653]\n",
            " [-0.30800813  0.79482748]\n",
            " [ 0.08729642 -0.30802467]\n",
            " [-1.39509563 -1.23674227]\n",
            " [-0.60448654 -1.4979441 ]\n",
            " [ 0.77907938  0.53362566]\n",
            " [-0.30800813 -0.3370471 ]\n",
            " [ 1.76734074 -0.27900225]\n",
            " [ 0.87790551 -1.0335853 ]\n",
            " [ 0.18612256  0.06926685]\n",
            " [-0.60448654  0.88189476]\n",
            " [-1.88922631 -1.41087682]\n",
            " [-1.29626949  0.59167051]\n",
            " [-0.30800813  0.53362566]\n",
            " [-0.99979108 -1.09163015]\n",
            " [ 1.17438392 -1.43989925]\n",
            " [ 0.18612256 -0.30802467]\n",
            " [ 1.17438392 -0.74336105]\n",
            " [-0.30800813  0.06926685]\n",
            " [ 0.18612256  2.10083661]\n",
            " [ 0.77907938 -1.09163015]\n",
            " [ 0.08729642  0.04024443]\n",
            " [-1.79040017  0.1273117 ]\n",
            " [-0.90096494  0.15633413]\n",
            " [-0.70331267  0.18535655]\n",
            " [ 0.87790551 -1.29478712]\n",
            " [ 0.18612256 -0.24997982]\n",
            " [-0.40683426  1.23016386]\n",
            " [-0.01152972  0.30144626]\n",
            " [ 0.38377483  0.15633413]\n",
            " [ 0.87790551 -0.65629377]\n",
            " [ 0.08729642  0.15633413]\n",
            " [-1.88922631 -1.29478712]\n",
            " [-0.11035585  0.30144626]\n",
            " [-0.20918199 -0.27900225]\n",
            " [ 0.28494869 -0.51118165]\n",
            " [-0.20918199  1.60745538]\n",
            " [ 0.87790551 -1.17869742]\n",
            " [-0.20918199  1.63647781]\n",
            " [ 1.27321006  1.86865721]\n",
            " [-1.09861722 -0.36606952]\n",
            " [-0.01152972  0.04024443]\n",
            " [ 0.08729642 -0.24997982]\n",
            " [-1.5927479  -1.23674227]\n",
            " [-0.5056604  -0.27900225]\n",
            " [ 0.97673165  0.1273117 ]\n",
            " [ 1.96499301 -1.35283197]\n",
            " [ 1.47086233  0.06926685]\n",
            " [-0.60448654  1.37527598]\n",
            " [ 1.56968847  0.011222  ]\n",
            " [-0.80213881  0.30144626]\n",
            " [ 1.96499301  0.73678263]\n",
            " [-1.19744335 -0.48215922]\n",
            " [ 0.68025324  0.27242383]\n",
            " [-1.39509563 -0.42411437]\n",
            " [ 0.18612256  0.15633413]\n",
            " [-0.5056604  -1.20771985]\n",
            " [ 0.5814271   2.01376934]\n",
            " [-1.5927479  -1.4979441 ]\n",
            " [-0.5056604  -0.54020407]\n",
            " [ 0.48260097  1.83963478]\n",
            " [-1.39509563 -1.09163015]\n",
            " [ 0.77907938 -1.3818544 ]\n",
            " [-0.30800813 -0.42411437]\n",
            " [ 1.56968847  0.99798446]\n",
            " [ 0.97673165  1.43332083]\n",
            " [-0.30800813 -0.48215922]\n",
            " [-0.11035585  2.15888146]\n",
            " [-1.49392176 -0.1048677 ]\n",
            " [-0.11035585  1.95572449]\n",
            " [-0.70331267 -0.3370471 ]\n",
            " [-0.5056604  -0.83042832]\n",
            " [ 0.68025324 -1.2657647 ]\n",
            " [-0.80213881 -1.58501138]\n",
            " [-1.79040017 -1.46892167]\n",
            " [ 1.07555779  0.1273117 ]\n",
            " [ 0.08729642  1.52038811]\n",
            " [-0.30800813  0.09828928]\n",
            " [ 0.08729642  0.04024443]\n",
            " [-1.39509563 -1.35283197]\n",
            " [ 0.28494869  0.06926685]\n",
            " [-0.90096494  0.38851353]\n",
            " [ 1.56968847 -1.2657647 ]\n",
            " [-0.30800813 -0.74336105]\n",
            " [-0.11035585  0.15633413]\n",
            " [-0.90096494 -0.65629377]\n",
            " [-0.70331267 -0.04682285]\n",
            " [ 0.38377483 -0.4531368 ]\n",
            " [-0.80213881  1.89767963]\n",
            " [ 1.3720362   1.28820871]\n",
            " [ 1.17438392 -0.97554045]\n",
            " [ 1.76734074  1.83963478]\n",
            " [-0.90096494 -0.24997982]\n",
            " [-0.80213881  0.56264808]\n",
            " [-1.19744335 -1.55598895]\n",
            " [-0.5056604  -1.12065257]\n",
            " [ 0.28494869  0.06926685]\n",
            " [-0.20918199 -1.06260772]\n",
            " [ 1.66851461  1.60745538]\n",
            " [ 0.97673165  1.78158993]\n",
            " [ 0.28494869  0.04024443]\n",
            " [-0.80213881 -0.2209574 ]\n",
            " [-0.11035585  0.06926685]\n",
            " [ 0.28494869 -0.19193497]\n",
            " [ 1.96499301 -0.65629377]\n",
            " [-0.80213881  1.34625356]\n",
            " [-1.79040017 -0.59824892]\n",
            " [-0.11035585  0.1273117 ]\n",
            " [ 0.28494869 -0.30802467]\n",
            " [ 1.07555779  0.56264808]\n",
            " [-0.99979108  0.27242383]\n",
            " [ 1.47086233  0.35949111]\n",
            " [ 0.18612256 -0.36606952]\n",
            " [ 2.26147142 -1.0335853 ]\n",
            " [-0.30800813  1.11407416]\n",
            " [-1.69157404  0.06926685]\n",
            " [-0.5056604   0.04024443]\n",
            " [ 0.08729642  1.05602931]\n",
            " [-0.11035585 -0.36606952]\n",
            " [-1.19744335  0.06926685]\n",
            " [-0.30800813 -1.35283197]\n",
            " [ 1.66851461  1.11407416]\n",
            " [-0.80213881 -1.52696653]\n",
            " [ 0.08729642  1.86865721]\n",
            " [-0.90096494 -0.77238347]\n",
            " [-0.5056604  -0.77238347]\n",
            " [-0.30800813 -0.9174956 ]\n",
            " [ 0.28494869 -0.71433862]\n",
            " [ 0.28494869  0.06926685]\n",
            " [ 0.08729642  1.86865721]\n",
            " [-1.09861722  1.95572449]\n",
            " [-1.69157404 -1.55598895]\n",
            " [-1.19744335 -1.09163015]\n",
            " [-0.70331267 -0.1048677 ]\n",
            " [ 0.08729642  0.09828928]\n",
            " [ 0.28494869  0.27242383]\n",
            " [ 0.87790551 -0.5692265 ]\n",
            " [ 0.28494869 -1.149675  ]\n",
            " [-0.11035585  0.67873778]\n",
            " [ 2.16264529 -0.6853162 ]\n",
            " [-1.29626949 -1.3818544 ]\n",
            " [-0.99979108 -0.94651802]\n",
            " [-0.01152972 -0.42411437]\n",
            " [-0.20918199 -0.4531368 ]\n",
            " [-1.79040017 -0.97554045]\n",
            " [ 1.76734074  0.99798446]\n",
            " [ 0.18612256 -0.36606952]\n",
            " [ 0.38377483  1.11407416]\n",
            " [-1.79040017 -1.35283197]\n",
            " [ 0.18612256 -0.13389012]\n",
            " [ 0.87790551 -1.43989925]\n",
            " [-1.98805245  0.47558081]\n",
            " [-0.30800813  0.27242383]\n",
            " [ 1.86616688 -1.0335853 ]\n",
            " [-0.80213881  0.06926685]\n",
            " [ 1.07555779 -0.88847317]\n",
            " [-1.09861722 -1.12065257]\n",
            " [-1.88922631  0.011222  ]\n",
            " [ 0.08729642  0.27242383]\n",
            " [-1.19744335  0.33046868]\n",
            " [-1.29626949  0.30144626]\n",
            " [-0.99979108  0.44655838]\n",
            " [ 1.66851461 -0.88847317]\n",
            " [ 1.17438392  0.53362566]\n",
            " [ 1.07555779  0.53362566]\n",
            " [ 1.3720362   2.33301601]\n",
            " [-0.11035585 -0.13389012]\n",
            " [ 0.38377483 -0.4531368 ]\n",
            " [-0.40683426 -0.77238347]\n",
            " [-0.11035585 -0.51118165]\n",
            " [ 0.97673165 -1.149675  ]\n",
            " [-0.90096494 -0.77238347]\n",
            " [-0.20918199 -0.51118165]\n",
            " [-1.09861722 -0.4531368 ]\n",
            " [-1.19744335  1.40429841]]\n"
          ]
        }
      ]
    },
    {
      "cell_type": "code",
      "source": [
        "print(x_test)"
      ],
      "metadata": {
        "colab": {
          "base_uri": "https://localhost:8080/"
        },
        "id": "MJtS9lp3hwHR",
        "outputId": "10199af9-f540-48c9-9d1e-37df03777bb4"
      },
      "execution_count": 24,
      "outputs": [
        {
          "output_type": "stream",
          "name": "stdout",
          "text": [
            "[[-0.80213881  0.50460323]\n",
            " [-0.01152972 -0.5692265 ]\n",
            " [-0.30800813  0.15633413]\n",
            " [-0.80213881  0.27242383]\n",
            " [-0.30800813 -0.5692265 ]\n",
            " [-1.09861722 -1.43989925]\n",
            " [ 0.28494869 -1.58501138]\n",
            " [-0.20918199  2.15888146]\n",
            " [-1.98805245 -0.04682285]\n",
            " [ 0.87790551 -0.77238347]\n",
            " [-0.80213881 -0.59824892]\n",
            " [-1.09861722 -0.42411437]\n",
            " [-0.11035585 -0.42411437]\n",
            " [ 0.08729642  0.21437898]\n",
            " [-1.79040017  0.47558081]\n",
            " [-0.60448654  1.37527598]\n",
            " [-0.11035585  0.21437898]\n",
            " [-1.88922631  0.44655838]\n",
            " [ 1.66851461  1.75256751]\n",
            " [-0.30800813 -1.3818544 ]\n",
            " [-0.30800813 -0.65629377]\n",
            " [ 0.87790551  2.10083661]\n",
            " [ 0.28494869 -0.54020407]\n",
            " [ 0.87790551  1.02700688]\n",
            " [-1.49392176 -1.20771985]\n",
            " [ 1.07555779  2.07181419]\n",
            " [-0.99979108  0.50460323]\n",
            " [-0.90096494  0.30144626]\n",
            " [ 0.08729642 -0.2209574 ]\n",
            " [-0.60448654  0.47558081]\n",
            " [-1.69157404  0.53362566]\n",
            " [-0.11035585  0.27242383]\n",
            " [ 1.86616688 -0.27900225]\n",
            " [-0.11035585 -0.48215922]\n",
            " [-1.39509563 -0.3370471 ]\n",
            " [-1.98805245 -0.51118165]\n",
            " [-1.5927479   0.33046868]\n",
            " [-0.40683426 -0.77238347]\n",
            " [-0.70331267 -1.0335853 ]\n",
            " [ 1.07555779 -1.06260772]\n",
            " [-1.09861722  0.53362566]\n",
            " [ 0.28494869 -0.51118165]\n",
            " [-1.09861722  0.30144626]\n",
            " [-0.5056604  -1.43989925]\n",
            " [ 0.48260097  1.23016386]\n",
            " [-1.09861722 -0.3370471 ]\n",
            " [-0.11035585  0.30144626]\n",
            " [ 1.3720362   0.59167051]\n",
            " [-1.19744335 -1.09163015]\n",
            " [ 1.07555779  0.47558081]\n",
            " [ 1.86616688  1.52038811]\n",
            " [-0.40683426 -1.29478712]\n",
            " [-0.30800813 -0.36606952]\n",
            " [-0.40683426  1.31723113]\n",
            " [ 2.06381915  0.53362566]\n",
            " [ 0.68025324 -1.09163015]\n",
            " [-0.90096494  0.38851353]\n",
            " [-1.19744335  0.30144626]\n",
            " [ 0.87790551 -1.20771985]\n",
            " [-1.49392176 -1.43989925]\n",
            " [-0.60448654 -1.4979441 ]\n",
            " [ 2.16264529 -0.8014059 ]\n",
            " [-1.98805245  0.18535655]\n",
            " [-0.20918199  0.85287233]\n",
            " [-1.88922631 -1.2657647 ]\n",
            " [ 2.55794983  0.38851353]\n",
            " [-1.39509563  0.56264808]\n",
            " [-1.09861722 -0.3370471 ]\n",
            " [ 0.18612256 -0.65629377]\n",
            " [ 0.38377483  0.011222  ]\n",
            " [-0.80213881  2.33301601]\n",
            " [-0.30800813  0.21437898]\n",
            " [-1.5927479  -0.19193497]\n",
            " [ 0.68025324 -1.3818544 ]\n",
            " [-1.09861722  0.56264808]\n",
            " [-1.88922631  0.35949111]\n",
            " [ 0.38377483  0.27242383]\n",
            " [ 0.18612256 -0.27900225]\n",
            " [ 1.47086233 -1.0335853 ]\n",
            " [ 0.87790551  1.08505173]\n",
            " [ 1.96499301  2.15888146]\n",
            " [ 2.06381915  0.38851353]\n",
            " [-1.39509563 -0.42411437]\n",
            " [-1.19744335 -1.00456287]\n",
            " [ 1.96499301 -0.9174956 ]\n",
            " [ 0.38377483  0.30144626]\n",
            " [ 0.18612256  0.15633413]\n",
            " [ 2.06381915  1.75256751]\n",
            " [ 0.77907938 -0.83042832]\n",
            " [ 0.28494869 -0.27900225]\n",
            " [ 0.38377483 -0.16291255]\n",
            " [-0.11035585  2.21692631]\n",
            " [-1.49392176 -0.62727135]\n",
            " [-1.29626949 -1.06260772]\n",
            " [-1.39509563  0.41753596]\n",
            " [-1.09861722  0.76580506]\n",
            " [-1.49392176 -0.19193497]\n",
            " [ 0.97673165 -1.06260772]\n",
            " [ 0.97673165  0.59167051]\n",
            " [ 0.38377483  0.99798446]]\n"
          ]
        }
      ]
    },
    {
      "cell_type": "code",
      "source": [
        "from sklearn.neighbors import KNeighborsClassifier\n",
        "classifier = KNeighborsClassifier(n_neighbors = 5, metric = 'minkowski', p=2)\n",
        "classifier.fit(x_train, y_train)"
      ],
      "metadata": {
        "id": "eWOzcJzfh8SQ"
      },
      "execution_count": null,
      "outputs": []
    },
    {
      "cell_type": "code",
      "source": [
        "y_pred = classifier.predict(x_test)"
      ],
      "metadata": {
        "id": "zMqttmf0iu5H"
      },
      "execution_count": 28,
      "outputs": []
    },
    {
      "cell_type": "code",
      "source": [
        "from sklearn.metrics import confusion_matrix\n",
        "cm = confusion_matrix(y_test, y_pred)\n",
        "print(cm)"
      ],
      "metadata": {
        "colab": {
          "base_uri": "https://localhost:8080/"
        },
        "id": "0kqbAcEti1nJ",
        "outputId": "698c624a-5570-4c79-879c-f39325e541a0"
      },
      "execution_count": 30,
      "outputs": [
        {
          "output_type": "stream",
          "name": "stdout",
          "text": [
            "[[63  5]\n",
            " [ 3 29]]\n"
          ]
        }
      ]
    },
    {
      "cell_type": "code",
      "source": [
        "from matplotlib.colors import ListedColormap\n",
        "x_set, y_set = x_train, y_train\n",
        "x1, x2 = np.meshgrid(np.arange(start = x_set[:, 0].min()-1, stop = x_set[:, 0].max() + 1, step=0.01),\n",
        "                        np.arange(start = x_set[:, 1].min()-1, stop = x_set[:, 0].max() + 1, step=0.01))\n",
        "plt.contourf(x1,x2, classifier.predict(np.array([x1.ravel(), x2.ravel()]).T).reshape(x1.shape),\n",
        "alpha = 0.75, cmap = ListedColormap(('red','green')))\n",
        "plt.xlim(x1.min(), x1.max())\n",
        "plt.ylim(x2.min(), x2.max())\n",
        "for i, j in enumerate(np.unique(y_set)):\n",
        "    plt.scatter(x_set[y_set == j, 0], x_set[y_set==j,1],\n",
        "    c = ListedColormap(('red', 'green'))(i), label = j)\n",
        "plt.title('Klasifikasi Data dengan K-NN (Training set)')\n",
        "plt.xlabel('Umur')\n",
        "plt.ylabel('Estimasi Gaji')\n",
        "plt.legend()\n",
        "plt.show()"
      ],
      "metadata": {
        "colab": {
          "base_uri": "https://localhost:8080/",
          "height": 350
        },
        "id": "ssPpLAwgi9nB",
        "outputId": "e586104b-a8a2-4352-9e1f-579dd5975d03"
      },
      "execution_count": 31,
      "outputs": [
        {
          "output_type": "stream",
          "name": "stderr",
          "text": [
            "*c* argument looks like a single numeric RGB or RGBA sequence, which should be avoided as value-mapping will have precedence in case its length matches with *x* & *y*.  Please use the *color* keyword-argument or provide a 2-D array with a single row if you intend to specify the same RGB or RGBA value for all points.\n",
            "*c* argument looks like a single numeric RGB or RGBA sequence, which should be avoided as value-mapping will have precedence in case its length matches with *x* & *y*.  Please use the *color* keyword-argument or provide a 2-D array with a single row if you intend to specify the same RGB or RGBA value for all points.\n"
          ]
        },
        {
          "output_type": "display_data",
          "data": {
            "text/plain": [
              "<Figure size 432x288 with 1 Axes>"
            ],
            "image/png": "[encoded data removed]"
          },
          "metadata": {
            "needs_background": "light"
          }
        }
      ]
    },
    {
      "cell_type": "code",
      "source": [
        "from matplotlib.colors import ListedColormap\n",
        "x_set, y_set = x_test, y_test\n",
        "x1,x2 = np.meshgrid(np.arange(start = x_set[:, 0].min()-1, stop = x_set[:, 0].max() + 1, step=0.01),\n",
        "                    np.arange(start = x_set[:, 1].min()-1, stop = x_set[:, 0].max() + 1, step=0.01))\n",
        "plt.contourf(x1,x2, classifier.predict(np.array([x1.ravel(), x2.ravel()]).T).reshape(x1.shape),\n",
        "            alpha = 0.75, cmap = ListedColormap(('red','green')))\n",
        "plt.xlim(x1.min(), x1.max())\n",
        "plt.ylim(x2.min(), x2.max())\n",
        "for i, j in enumerate(np.unique(y_set)):\n",
        "    plt.scatter(x_set[y_set == j, 0], x_set[y_set==j,1],\n",
        "    c = ListedColormap(('red', 'green'))(i), label = j)\n",
        "plt.title('Klasifikasi Data dengan K-NN (Test set)')\n",
        "plt.xlabel('Umur')\n",
        "plt.ylabel('Estimasi Gaji')\n",
        "plt.legend()\n",
        "plt.show()"
      ],
      "metadata": {
        "colab": {
          "base_uri": "https://localhost:8080/",
          "height": 350
        },
        "id": "-wp5HAEzkPDI",
        "outputId": "a4599823-c3f9-4374-f297-6e047d519ac9"
      },
      "execution_count": 32,
      "outputs": [
        {
          "output_type": "stream",
          "name": "stderr",
          "text": [
            "*c* argument looks like a single numeric RGB or RGBA sequence, which should be avoided as value-mapping will have precedence in case its length matches with *x* & *y*.  Please use the *color* keyword-argument or provide a 2-D array with a single row if you intend to specify the same RGB or RGBA value for all points.\n",
            "*c* argument looks like a single numeric RGB or RGBA sequence, which should be avoided as value-mapping will have precedence in case its length matches with *x* & *y*.  Please use the *color* keyword-argument or provide a 2-D array with a single row if you intend to specify the same RGB or RGBA value for all points.\n"
          ]
        },
        {
          "output_type": "display_data",
          "data": {
            "text/plain": [
              "<Figure size 432x288 with 1 Axes>"
            ],
            "image/png": "[encoded data removed]"
          },
          "metadata": {
            "needs_background": "light"
          }
        }
      ]
    }
  ]
}